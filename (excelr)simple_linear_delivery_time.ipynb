{
 "cells": [
  {
   "cell_type": "markdown",
   "id": "a7d8e625",
   "metadata": {},
   "source": [
    "## Build a simple linear regression model by performing EDA and do necessary transformations and select the best model using R or Python.\n"
   ]
  },
  {
   "cell_type": "markdown",
   "id": "6e26b550",
   "metadata": {},
   "source": [
    "### Predict delivery time using sorting time "
   ]
  },
  {
   "cell_type": "code",
   "execution_count": 1,
   "id": "554e7b63",
   "metadata": {
    "ExecuteTime": {
     "end_time": "2022-07-04T21:31:20.231835Z",
     "start_time": "2022-07-04T21:31:12.121280Z"
    }
   },
   "outputs": [],
   "source": [
    "# importing libraries\n",
    "import pandas as pd\n",
    "import numpy as np\n",
    "import seaborn as sns\n",
    "import matplotlib.pyplot as plt\n",
    "import statsmodels.api as sm\n",
    "from sklearn.linear_model import LinearRegression, LassoCV, Lasso, RidgeCV, Ridge, ElasticNetCV, ElasticNet\n",
    "from sklearn.metrics import mean_squared_error\n",
    "\n",
    "import warnings\n",
    "warnings.filterwarnings(\"ignore\")"
   ]
  },
  {
   "cell_type": "code",
   "execution_count": 2,
   "id": "895f1b37",
   "metadata": {
    "ExecuteTime": {
     "end_time": "2022-07-04T21:31:20.441329Z",
     "start_time": "2022-07-04T21:31:20.244584Z"
    }
   },
   "outputs": [
    {
     "data": {
      "text/html": [
       "<div>\n",
       "<style scoped>\n",
       "    .dataframe tbody tr th:only-of-type {\n",
       "        vertical-align: middle;\n",
       "    }\n",
       "\n",
       "    .dataframe tbody tr th {\n",
       "        vertical-align: top;\n",
       "    }\n",
       "\n",
       "    .dataframe thead th {\n",
       "        text-align: right;\n",
       "    }\n",
       "</style>\n",
       "<table border=\"1\" class=\"dataframe\">\n",
       "  <thead>\n",
       "    <tr style=\"text-align: right;\">\n",
       "      <th></th>\n",
       "      <th>Delivery Time</th>\n",
       "      <th>Sorting Time</th>\n",
       "    </tr>\n",
       "  </thead>\n",
       "  <tbody>\n",
       "    <tr>\n",
       "      <th>0</th>\n",
       "      <td>21.00</td>\n",
       "      <td>10</td>\n",
       "    </tr>\n",
       "    <tr>\n",
       "      <th>1</th>\n",
       "      <td>13.50</td>\n",
       "      <td>4</td>\n",
       "    </tr>\n",
       "    <tr>\n",
       "      <th>2</th>\n",
       "      <td>19.75</td>\n",
       "      <td>6</td>\n",
       "    </tr>\n",
       "    <tr>\n",
       "      <th>3</th>\n",
       "      <td>24.00</td>\n",
       "      <td>9</td>\n",
       "    </tr>\n",
       "    <tr>\n",
       "      <th>4</th>\n",
       "      <td>29.00</td>\n",
       "      <td>10</td>\n",
       "    </tr>\n",
       "  </tbody>\n",
       "</table>\n",
       "</div>"
      ],
      "text/plain": [
       "   Delivery Time  Sorting Time\n",
       "0          21.00            10\n",
       "1          13.50             4\n",
       "2          19.75             6\n",
       "3          24.00             9\n",
       "4          29.00            10"
      ]
     },
     "execution_count": 2,
     "metadata": {},
     "output_type": "execute_result"
    }
   ],
   "source": [
    "#loading Dataset\n",
    "deliv= pd.read_csv(\"delivery_time.csv\")\n",
    "deliv.head()"
   ]
  },
  {
   "cell_type": "code",
   "execution_count": 3,
   "id": "1e5fd020",
   "metadata": {
    "ExecuteTime": {
     "end_time": "2022-07-04T21:31:20.479256Z",
     "start_time": "2022-07-04T21:31:20.463430Z"
    }
   },
   "outputs": [],
   "source": [
    "#renaming columns\n",
    "deliv=deliv.rename(columns={'Delivery Time':'Delivery_time'})\n",
    "deliv=deliv.rename(columns={\"Sorting Time\":\"Sorting_time\"})"
   ]
  },
  {
   "cell_type": "code",
   "execution_count": 4,
   "id": "768b88b2",
   "metadata": {
    "ExecuteTime": {
     "end_time": "2022-07-04T21:31:20.738241Z",
     "start_time": "2022-07-04T21:31:20.507549Z"
    },
    "scrolled": true
   },
   "outputs": [
    {
     "name": "stdout",
     "output_type": "stream",
     "text": [
      "<class 'pandas.core.frame.DataFrame'>\n",
      "RangeIndex: 21 entries, 0 to 20\n",
      "Data columns (total 2 columns):\n",
      " #   Column         Non-Null Count  Dtype  \n",
      "---  ------         --------------  -----  \n",
      " 0   Delivery_time  21 non-null     float64\n",
      " 1   Sorting_time   21 non-null     int64  \n",
      "dtypes: float64(1), int64(1)\n",
      "memory usage: 464.0 bytes\n"
     ]
    },
    {
     "data": {
      "text/plain": [
       "(       Delivery_time  Sorting_time\n",
       " count      21.000000     21.000000\n",
       " mean       16.790952      6.190476\n",
       " std         5.074901      2.542028\n",
       " min         8.000000      2.000000\n",
       " 25%        13.500000      4.000000\n",
       " 50%        17.830000      6.000000\n",
       " 75%        19.750000      8.000000\n",
       " max        29.000000     10.000000,\n",
       " None)"
      ]
     },
     "execution_count": 4,
     "metadata": {},
     "output_type": "execute_result"
    }
   ],
   "source": [
    "# fetching information by using info and describe function to understand the data well.\n",
    "deliv.describe(),deliv.info()"
   ]
  },
  {
   "cell_type": "code",
   "execution_count": 5,
   "id": "ab3d19b9",
   "metadata": {
    "ExecuteTime": {
     "end_time": "2022-07-04T21:31:21.381835Z",
     "start_time": "2022-07-04T21:31:20.758958Z"
    }
   },
   "outputs": [
    {
     "data": {
      "image/png": "[encoded data removed]",
      "text/plain": [
       "<Figure size 432x288 with 1 Axes>"
      ]
     },
     "metadata": {
      "needs_background": "light"
     },
     "output_type": "display_data"
    }
   ],
   "source": [
    "#plotting scatter plot to understand relationship between the target and the independent variable.\n",
    "plt.scatter(deliv['Delivery_time'],deliv['Sorting_time']);"
   ]
  },
  {
   "cell_type": "code",
   "execution_count": 6,
   "id": "6796990d",
   "metadata": {
    "ExecuteTime": {
     "end_time": "2022-07-04T21:31:23.094363Z",
     "start_time": "2022-07-04T21:31:21.395944Z"
    }
   },
   "outputs": [
    {
     "data": {
      "image/png": "[encoded data removed]",
      "text/plain": [
       "<Figure size 432x288 with 1 Axes>"
      ]
     },
     "metadata": {
      "needs_background": "light"
     },
     "output_type": "display_data"
    }
   ],
   "source": [
    "sns.histplot(deliv['Delivery_time']);\n"
   ]
  },
  {
   "cell_type": "code",
   "execution_count": 7,
   "id": "d3ed5d0d",
   "metadata": {
    "ExecuteTime": {
     "end_time": "2022-07-04T21:31:23.256625Z",
     "start_time": "2022-07-04T21:31:23.139223Z"
    }
   },
   "outputs": [
    {
     "data": {
      "text/html": [
       "<div>\n",
       "<style scoped>\n",
       "    .dataframe tbody tr th:only-of-type {\n",
       "        vertical-align: middle;\n",
       "    }\n",
       "\n",
       "    .dataframe tbody tr th {\n",
       "        vertical-align: top;\n",
       "    }\n",
       "\n",
       "    .dataframe thead th {\n",
       "        text-align: right;\n",
       "    }\n",
       "</style>\n",
       "<table border=\"1\" class=\"dataframe\">\n",
       "  <thead>\n",
       "    <tr style=\"text-align: right;\">\n",
       "      <th></th>\n",
       "      <th>Delivery_time</th>\n",
       "      <th>Sorting_time</th>\n",
       "    </tr>\n",
       "  </thead>\n",
       "  <tbody>\n",
       "    <tr>\n",
       "      <th>Delivery_time</th>\n",
       "      <td>1.000000</td>\n",
       "      <td>0.825997</td>\n",
       "    </tr>\n",
       "    <tr>\n",
       "      <th>Sorting_time</th>\n",
       "      <td>0.825997</td>\n",
       "      <td>1.000000</td>\n",
       "    </tr>\n",
       "  </tbody>\n",
       "</table>\n",
       "</div>"
      ],
      "text/plain": [
       "               Delivery_time  Sorting_time\n",
       "Delivery_time       1.000000      0.825997\n",
       "Sorting_time        0.825997      1.000000"
      ]
     },
     "execution_count": 7,
     "metadata": {},
     "output_type": "execute_result"
    }
   ],
   "source": [
    "deliv.corr()"
   ]
  },
  {
   "cell_type": "code",
   "execution_count": 8,
   "id": "4ab74681",
   "metadata": {
    "ExecuteTime": {
     "end_time": "2022-07-04T21:31:23.324988Z",
     "start_time": "2022-07-04T21:31:23.285741Z"
    },
    "scrolled": true
   },
   "outputs": [
    {
     "data": {
      "text/plain": [
       "((21, 1), (21,))"
      ]
     },
     "execution_count": 8,
     "metadata": {},
     "output_type": "execute_result"
    }
   ],
   "source": [
    "#defining x and y variable\n",
    "x=np.array([deliv[\"Sorting_time\"]]).transpose()\n",
    "y=np.array(deliv[\"Delivery_time\"])\n",
    "x.shape,y.shape"
   ]
  },
  {
   "cell_type": "code",
   "execution_count": 9,
   "id": "1b7315a9",
   "metadata": {
    "ExecuteTime": {
     "end_time": "2022-07-04T21:31:23.364568Z",
     "start_time": "2022-07-04T21:31:23.335919Z"
    }
   },
   "outputs": [
    {
     "data": {
      "text/plain": [
       "LinearRegression()"
      ]
     },
     "execution_count": 9,
     "metadata": {},
     "output_type": "execute_result"
    }
   ],
   "source": [
    "#training model by using ols and sklearn \n",
    "model_ols = sm.OLS(y,sm.add_constant(x)).fit()\n",
    "model_sk = LinearRegression()\n",
    "model_sk.fit(x,y)"
   ]
  },
  {
   "cell_type": "code",
   "execution_count": 10,
   "id": "9887c514",
   "metadata": {
    "ExecuteTime": {
     "end_time": "2022-07-04T21:31:23.414044Z",
     "start_time": "2022-07-04T21:31:23.378983Z"
    }
   },
   "outputs": [
    {
     "data": {
      "text/plain": [
       "(array([1.6490199]),\n",
       " 0.6822714748417231,\n",
       " 0.6822714748417231,\n",
       " <class 'statsmodels.iolib.summary.Summary'>\n",
       " \"\"\"\n",
       "                             OLS Regression Results                            \n",
       " ==============================================================================\n",
       " Dep. Variable:                      y   R-squared:                       0.682\n",
       " Model:                            OLS   Adj. R-squared:                  0.666\n",
       " Method:                 Least Squares   F-statistic:                     40.80\n",
       " Date:                Tue, 05 Jul 2022   Prob (F-statistic):           3.98e-06\n",
       " Time:                        03:01:23   Log-Likelihood:                -51.357\n",
       " No. Observations:                  21   AIC:                             106.7\n",
       " Df Residuals:                      19   BIC:                             108.8\n",
       " Df Model:                           1                                         \n",
       " Covariance Type:            nonrobust                                         \n",
       " ==============================================================================\n",
       "                  coef    std err          t      P>|t|      [0.025      0.975]\n",
       " ------------------------------------------------------------------------------\n",
       " const          6.5827      1.722      3.823      0.001       2.979      10.186\n",
       " x1             1.6490      0.258      6.387      0.000       1.109       2.189\n",
       " ==============================================================================\n",
       " Omnibus:                        3.649   Durbin-Watson:                   1.248\n",
       " Prob(Omnibus):                  0.161   Jarque-Bera (JB):                2.086\n",
       " Skew:                           0.750   Prob(JB):                        0.352\n",
       " Kurtosis:                       3.367   Cond. No.                         18.3\n",
       " ==============================================================================\n",
       " \n",
       " Notes:\n",
       " [1] Standard Errors assume that the covariance matrix of the errors is correctly specified.\n",
       " \"\"\")"
      ]
     },
     "execution_count": 10,
     "metadata": {},
     "output_type": "execute_result"
    }
   ],
   "source": [
    "model_sk.coef_,model_sk.score(x,y),model_ols.rsquared,model_ols.summary()"
   ]
  },
  {
   "cell_type": "code",
   "execution_count": 11,
   "id": "a5d9ef46",
   "metadata": {
    "ExecuteTime": {
     "end_time": "2022-07-04T21:31:23.446472Z",
     "start_time": "2022-07-04T21:31:23.422012Z"
    }
   },
   "outputs": [
    {
     "data": {
      "text/plain": [
       "(7.793311548584063, 2.7916503270617654)"
      ]
     },
     "execution_count": 11,
     "metadata": {},
     "output_type": "execute_result"
    }
   ],
   "source": [
    "prediction = model_sk.predict(x)\n",
    "mse = mean_squared_error(y,prediction)\n",
    "rmse = np.sqrt(mse)\n",
    "mse,rmse"
   ]
  },
  {
   "cell_type": "code",
   "execution_count": 12,
   "id": "f334dead",
   "metadata": {
    "ExecuteTime": {
     "end_time": "2022-07-04T21:31:23.523185Z",
     "start_time": "2022-07-04T21:31:23.455798Z"
    }
   },
   "outputs": [],
   "source": [
    "#cooks distance for influence point analysis\n",
    "model_influence = model_ols.get_influence()\n",
    "(c, _) = model_influence.cooks_distance"
   ]
  },
  {
   "cell_type": "code",
   "execution_count": 13,
   "id": "9ef4ce72",
   "metadata": {
    "ExecuteTime": {
     "end_time": "2022-07-04T21:31:25.559814Z",
     "start_time": "2022-07-04T21:31:23.686473Z"
    }
   },
   "outputs": [
    {
     "data": {
      "image/png": "[encoded data removed]",
      "text/plain": [
       "<Figure size 1440x504 with 1 Axes>"
      ]
     },
     "metadata": {
      "needs_background": "light"
     },
     "output_type": "display_data"
    }
   ],
   "source": [
    "fig = plt.subplots(figsize=(20, 7))\n",
    "plt.stem(np.arange(len(x)), np.round(c, 3))\n",
    "plt.xlabel('Row index')\n",
    "plt.ylabel('Cooks Distance')\n",
    "plt.show()"
   ]
  },
  {
   "cell_type": "code",
   "execution_count": 14,
   "id": "723faebd",
   "metadata": {
    "ExecuteTime": {
     "end_time": "2022-07-04T21:31:25.729072Z",
     "start_time": "2022-07-04T21:31:25.624568Z"
    }
   },
   "outputs": [
    {
     "data": {
      "text/plain": [
       "(4, 0.4620530412650319)"
      ]
     },
     "execution_count": 14,
     "metadata": {},
     "output_type": "execute_result"
    }
   ],
   "source": [
    "(np.argmax(c),np.max(c[c>0.2]))"
   ]
  },
  {
   "cell_type": "markdown",
   "id": "eb949b44",
   "metadata": {},
   "source": [
    "### Here some points which are having c>0.2 are influential points so we will try to remove those and see the score."
   ]
  },
  {
   "cell_type": "code",
   "execution_count": 15,
   "id": "2ee08da1",
   "metadata": {
    "ExecuteTime": {
     "end_time": "2022-07-04T21:31:25.818263Z",
     "start_time": "2022-07-04T21:31:25.765726Z"
    }
   },
   "outputs": [],
   "source": [
    "#removing the 4th row \n",
    "deliv_new= pd.read_csv(\"delivery_time.csv\")\n",
    "deliv_new1 = deliv_new.drop(deliv_new.index[[4,8]],axis=0).reset_index()\n",
    "deliv_new1 = deliv_new1[['Delivery Time','Sorting Time']]\n",
    "deliv_new1.rename(columns={'Delivery Time':'Delivery_time',\"Sorting Time\":\"Sorting_time\"}, inplace=True)\n"
   ]
  },
  {
   "cell_type": "code",
   "execution_count": 16,
   "id": "b063da68",
   "metadata": {
    "ExecuteTime": {
     "end_time": "2022-07-04T21:31:25.928882Z",
     "start_time": "2022-07-04T21:31:25.843530Z"
    }
   },
   "outputs": [
    {
     "name": "stdout",
     "output_type": "stream",
     "text": [
      "<class 'pandas.core.frame.DataFrame'>\n",
      "RangeIndex: 19 entries, 0 to 18\n",
      "Data columns (total 2 columns):\n",
      " #   Column         Non-Null Count  Dtype  \n",
      "---  ------         --------------  -----  \n",
      " 0   Delivery_time  19 non-null     float64\n",
      " 1   Sorting_time   19 non-null     int64  \n",
      "dtypes: float64(1), int64(1)\n",
      "memory usage: 432.0 bytes\n"
     ]
    }
   ],
   "source": [
    "deliv_new1.info()"
   ]
  },
  {
   "cell_type": "code",
   "execution_count": 17,
   "id": "b2eee624",
   "metadata": {
    "ExecuteTime": {
     "end_time": "2022-07-04T21:31:26.046874Z",
     "start_time": "2022-07-04T21:31:25.967910Z"
    }
   },
   "outputs": [
    {
     "data": {
      "text/plain": [
       "((19, 1), (19,))"
      ]
     },
     "execution_count": 17,
     "metadata": {},
     "output_type": "execute_result"
    }
   ],
   "source": [
    "x1=np.array([deliv_new1[\"Sorting_time\"]]).transpose()\n",
    "y1=np.array(deliv_new1[\"Delivery_time\"])\n",
    "x1.shape,y1.shape"
   ]
  },
  {
   "cell_type": "code",
   "execution_count": 18,
   "id": "5be4f2d1",
   "metadata": {
    "ExecuteTime": {
     "end_time": "2022-07-04T21:31:26.204147Z",
     "start_time": "2022-07-04T21:31:26.128669Z"
    }
   },
   "outputs": [
    {
     "data": {
      "text/plain": [
       "LinearRegression()"
      ]
     },
     "execution_count": 18,
     "metadata": {},
     "output_type": "execute_result"
    }
   ],
   "source": [
    "model_ols1 = sm.OLS(y1,sm.add_constant(x1)).fit()\n",
    "model_sk1 = LinearRegression()\n",
    "model_sk1.fit(x1,y1)"
   ]
  },
  {
   "cell_type": "code",
   "execution_count": 19,
   "id": "add98c03",
   "metadata": {
    "ExecuteTime": {
     "end_time": "2022-07-04T21:31:26.376267Z",
     "start_time": "2022-07-04T21:31:26.227606Z"
    },
    "scrolled": true
   },
   "outputs": [
    {
     "data": {
      "text/plain": [
       "(array([1.61633803]),\n",
       " 0.6818898398098328,\n",
       " 0.7140755547043909,\n",
       " <class 'statsmodels.iolib.summary.Summary'>\n",
       " \"\"\"\n",
       "                             OLS Regression Results                            \n",
       " ==============================================================================\n",
       " Dep. Variable:                      y   R-squared:                       0.714\n",
       " Model:                            OLS   Adj. R-squared:                  0.697\n",
       " Method:                 Least Squares   F-statistic:                     42.46\n",
       " Date:                Tue, 05 Jul 2022   Prob (F-statistic):           5.28e-06\n",
       " Time:                        03:01:26   Log-Likelihood:                -42.891\n",
       " No. Observations:                  19   AIC:                             89.78\n",
       " Df Residuals:                      17   BIC:                             91.67\n",
       " Df Model:                           1                                         \n",
       " Covariance Type:            nonrobust                                         \n",
       " ==============================================================================\n",
       "                  coef    std err          t      P>|t|      [0.025      0.975]\n",
       " ------------------------------------------------------------------------------\n",
       " const          6.7323      1.542      4.366      0.000       3.479       9.985\n",
       " x1             1.6163      0.248      6.516      0.000       1.093       2.140\n",
       " ==============================================================================\n",
       " Omnibus:                        8.911   Durbin-Watson:                   1.401\n",
       " Prob(Omnibus):                  0.012   Jarque-Bera (JB):                6.059\n",
       " Skew:                           1.208   Prob(JB):                       0.0483\n",
       " Kurtosis:                       4.347   Cond. No.                         17.5\n",
       " ==============================================================================\n",
       " \n",
       " Notes:\n",
       " [1] Standard Errors assume that the covariance matrix of the errors is correctly specified.\n",
       " \"\"\")"
      ]
     },
     "execution_count": 19,
     "metadata": {},
     "output_type": "execute_result"
    }
   ],
   "source": [
    "model_sk1.coef_,model_sk1.score(x,y),model_ols1.rsquared,model_ols1.summary()"
   ]
  },
  {
   "cell_type": "markdown",
   "id": "5e842f58",
   "metadata": {},
   "source": [
    "### The score is definitely increasing for the model by removing outliers and also reduced the rmse "
   ]
  },
  {
   "cell_type": "code",
   "execution_count": 20,
   "id": "acf7a7b7",
   "metadata": {
    "ExecuteTime": {
     "end_time": "2022-07-04T21:31:26.515578Z",
     "start_time": "2022-07-04T21:31:26.438553Z"
    }
   },
   "outputs": [
    {
     "data": {
      "text/plain": [
       "(5.349288213491475, 2.3128528300545788)"
      ]
     },
     "execution_count": 20,
     "metadata": {},
     "output_type": "execute_result"
    }
   ],
   "source": [
    "prediction1 = model_sk1.predict(x1)\n",
    "mse1 = mean_squared_error(y1,prediction1)\n",
    "rmse1 = np.sqrt(mse1)\n",
    "mse1,rmse1"
   ]
  },
  {
   "cell_type": "code",
   "execution_count": 21,
   "id": "46c985e0",
   "metadata": {
    "ExecuteTime": {
     "end_time": "2022-07-04T21:31:26.548091Z",
     "start_time": "2022-07-04T21:31:26.526708Z"
    }
   },
   "outputs": [],
   "source": [
    "model_influence1 = model_ols1.get_influence()\n",
    "(c, _) = model_influence1.cooks_distance"
   ]
  },
  {
   "cell_type": "code",
   "execution_count": 22,
   "id": "0adc7d91",
   "metadata": {
    "ExecuteTime": {
     "end_time": "2022-07-04T21:31:27.444292Z",
     "start_time": "2022-07-04T21:31:26.561336Z"
    }
   },
   "outputs": [
    {
     "data": {
      "image/png": "[encoded data removed]",
      "text/plain": [
       "<Figure size 1440x504 with 1 Axes>"
      ]
     },
     "metadata": {
      "needs_background": "light"
     },
     "output_type": "display_data"
    }
   ],
   "source": [
    "fig = plt.subplots(figsize=(20, 7))\n",
    "plt.stem(np.arange(len(x1)), np.round(c, 3))\n",
    "plt.xlabel('Row index')\n",
    "plt.ylabel('Cooks Distance')\n",
    "plt.show()"
   ]
  },
  {
   "cell_type": "code",
   "execution_count": 23,
   "id": "164ebb88",
   "metadata": {
    "ExecuteTime": {
     "end_time": "2022-07-04T21:31:27.490591Z",
     "start_time": "2022-07-04T21:31:27.458736Z"
    }
   },
   "outputs": [
    {
     "data": {
      "text/plain": [
       "0.21052631578947367"
      ]
     },
     "execution_count": 23,
     "metadata": {},
     "output_type": "execute_result"
    }
   ],
   "source": [
    "4/19"
   ]
  },
  {
   "cell_type": "code",
   "execution_count": 24,
   "id": "a95fd14e",
   "metadata": {
    "ExecuteTime": {
     "end_time": "2022-07-04T21:31:27.549323Z",
     "start_time": "2022-07-04T21:31:27.513556Z"
    },
    "scrolled": true
   },
   "outputs": [
    {
     "name": "stdout",
     "output_type": "stream",
     "text": [
      "<class 'pandas.core.frame.DataFrame'>\n",
      "RangeIndex: 18 entries, 0 to 17\n",
      "Data columns (total 2 columns):\n",
      " #   Column         Non-Null Count  Dtype  \n",
      "---  ------         --------------  -----  \n",
      " 0   Delivery_time  18 non-null     float64\n",
      " 1   Sorting_time   18 non-null     int64  \n",
      "dtypes: float64(1), int64(1)\n",
      "memory usage: 416.0 bytes\n"
     ]
    }
   ],
   "source": [
    "deliv_new2 = deliv_new1.drop(deliv_new1.index[[18]],axis=0).reset_index()\n",
    "deliv_new2 = deliv_new2[[\"Delivery_time\",\"Sorting_time\"]]\n",
    "deliv_new2.info()"
   ]
  },
  {
   "cell_type": "code",
   "execution_count": 25,
   "id": "a4dc6bd5",
   "metadata": {
    "ExecuteTime": {
     "end_time": "2022-07-04T21:31:27.647201Z",
     "start_time": "2022-07-04T21:31:27.583728Z"
    }
   },
   "outputs": [
    {
     "data": {
      "text/plain": [
       "((18, 1), (18,))"
      ]
     },
     "execution_count": 25,
     "metadata": {},
     "output_type": "execute_result"
    }
   ],
   "source": [
    "x2=np.array([deliv_new2[\"Sorting_time\"]]).transpose()\n",
    "y2=np.array(deliv_new2[\"Delivery_time\"])\n",
    "x2.shape,y2.shape"
   ]
  },
  {
   "cell_type": "code",
   "execution_count": 26,
   "id": "04ff35ea",
   "metadata": {
    "ExecuteTime": {
     "end_time": "2022-07-04T21:31:27.695258Z",
     "start_time": "2022-07-04T21:31:27.660115Z"
    }
   },
   "outputs": [
    {
     "data": {
      "text/plain": [
       "LinearRegression()"
      ]
     },
     "execution_count": 26,
     "metadata": {},
     "output_type": "execute_result"
    }
   ],
   "source": [
    "model_ols2 = sm.OLS(y2,sm.add_constant(x2)).fit()\n",
    "model_sk2 = LinearRegression()\n",
    "model_sk2.fit(x2,y2)"
   ]
  },
  {
   "cell_type": "code",
   "execution_count": 27,
   "id": "0d11d3f2",
   "metadata": {
    "ExecuteTime": {
     "end_time": "2022-07-04T21:31:27.746770Z",
     "start_time": "2022-07-04T21:31:27.713118Z"
    }
   },
   "outputs": [
    {
     "data": {
      "text/plain": [
       "(array([1.67407599]),\n",
       " 0.6754721317387807,\n",
       " 0.8332330202945817,\n",
       " <class 'statsmodels.iolib.summary.Summary'>\n",
       " \"\"\"\n",
       "                             OLS Regression Results                            \n",
       " ==============================================================================\n",
       " Dep. Variable:                      y   R-squared:                       0.833\n",
       " Model:                            OLS   Adj. R-squared:                  0.823\n",
       " Method:                 Least Squares   F-statistic:                     79.94\n",
       " Date:                Tue, 05 Jul 2022   Prob (F-statistic):           1.27e-07\n",
       " Time:                        03:01:27   Log-Likelihood:                -35.450\n",
       " No. Observations:                  18   AIC:                             74.90\n",
       " Df Residuals:                      16   BIC:                             76.68\n",
       " Df Model:                           1                                         \n",
       " Covariance Type:            nonrobust                                         \n",
       " ==============================================================================\n",
       "                  coef    std err          t      P>|t|      [0.025      0.975]\n",
       " ------------------------------------------------------------------------------\n",
       " const          6.0240      1.175      5.126      0.000       3.533       8.515\n",
       " x1             1.6741      0.187      8.941      0.000       1.277       2.071\n",
       " ==============================================================================\n",
       " Omnibus:                        1.044   Durbin-Watson:                   1.691\n",
       " Prob(Omnibus):                  0.593   Jarque-Bera (JB):                0.959\n",
       " Skew:                           0.447   Prob(JB):                        0.619\n",
       " Kurtosis:                       2.307   Cond. No.                         17.4\n",
       " ==============================================================================\n",
       " \n",
       " Notes:\n",
       " [1] Standard Errors assume that the covariance matrix of the errors is correctly specified.\n",
       " \"\"\")"
      ]
     },
     "execution_count": 27,
     "metadata": {},
     "output_type": "execute_result"
    }
   ],
   "source": [
    "model_sk2.coef_,model_sk2.score(x,y),model_ols2.rsquared,model_ols2.summary()"
   ]
  },
  {
   "cell_type": "markdown",
   "id": "f9b85231",
   "metadata": {},
   "source": [
    "## After removing the outliers this is the final accuracy we are getting for the improved model"
   ]
  },
  {
   "cell_type": "markdown",
   "id": "40b1abc6",
   "metadata": {},
   "source": [
    "# The accuracy of the final model is 83.3%"
   ]
  },
  {
   "cell_type": "code",
   "execution_count": null,
   "id": "6fb1eeea",
   "metadata": {},
   "outputs": [],
   "source": []
  }
 ],
 "metadata": {
  "kernelspec": {
   "display_name": "Python 3 (ipykernel)",
   "language": "python",
   "name": "python3"
  },
  "language_info": {
   "codemirror_mode": {
    "name": "ipython",
    "version": 3
   },
   "file_extension": ".py",
   "mimetype": "text/x-python",
   "name": "python",
   "nbconvert_exporter": "python",
   "pygments_lexer": "ipython3",
   "version": "3.9.7"
  }
 },
 "nbformat": 4,
 "nbformat_minor": 5
}
