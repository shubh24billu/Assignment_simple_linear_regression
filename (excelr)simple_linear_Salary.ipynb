{
 "cells": [
  {
   "cell_type": "markdown",
   "id": "675ca7c5",
   "metadata": {},
   "source": [
    "## Build a simple linear regression model by performing EDA and do necessary transformations and select the best model using R or Python."
   ]
  },
  {
   "cell_type": "markdown",
   "id": "65d36a28",
   "metadata": {},
   "source": [
    "### Build a prediction model for Salary_hike"
   ]
  },
  {
   "cell_type": "code",
   "execution_count": 1,
   "id": "629e38f7",
   "metadata": {
    "ExecuteTime": {
     "end_time": "2022-07-04T21:31:20.229767Z",
     "start_time": "2022-07-04T21:31:09.633893Z"
    }
   },
   "outputs": [],
   "source": [
    "# importing libraries\n",
    "import pandas as pd\n",
    "import numpy as np\n",
    "import matplotlib.pyplot as plt\n",
    "import statsmodels.api as sm\n",
    "from sklearn.linear_model import LinearRegression\n",
    "from sklearn.metrics import mean_squared_error\n",
    "\n",
    "import warnings\n",
    "warnings.filterwarnings(\"ignore\")"
   ]
  },
  {
   "cell_type": "code",
   "execution_count": 2,
   "id": "23708772",
   "metadata": {
    "ExecuteTime": {
     "end_time": "2022-07-04T21:31:20.449633Z",
     "start_time": "2022-07-04T21:31:20.244802Z"
    }
   },
   "outputs": [
    {
     "data": {
      "text/html": [
       "<div>\n",
       "<style scoped>\n",
       "    .dataframe tbody tr th:only-of-type {\n",
       "        vertical-align: middle;\n",
       "    }\n",
       "\n",
       "    .dataframe tbody tr th {\n",
       "        vertical-align: top;\n",
       "    }\n",
       "\n",
       "    .dataframe thead th {\n",
       "        text-align: right;\n",
       "    }\n",
       "</style>\n",
       "<table border=\"1\" class=\"dataframe\">\n",
       "  <thead>\n",
       "    <tr style=\"text-align: right;\">\n",
       "      <th></th>\n",
       "      <th>YearsExperience</th>\n",
       "      <th>Salary</th>\n",
       "    </tr>\n",
       "  </thead>\n",
       "  <tbody>\n",
       "    <tr>\n",
       "      <th>0</th>\n",
       "      <td>1.1</td>\n",
       "      <td>39343.0</td>\n",
       "    </tr>\n",
       "    <tr>\n",
       "      <th>1</th>\n",
       "      <td>1.3</td>\n",
       "      <td>46205.0</td>\n",
       "    </tr>\n",
       "    <tr>\n",
       "      <th>2</th>\n",
       "      <td>1.5</td>\n",
       "      <td>37731.0</td>\n",
       "    </tr>\n",
       "    <tr>\n",
       "      <th>3</th>\n",
       "      <td>2.0</td>\n",
       "      <td>43525.0</td>\n",
       "    </tr>\n",
       "    <tr>\n",
       "      <th>4</th>\n",
       "      <td>2.2</td>\n",
       "      <td>39891.0</td>\n",
       "    </tr>\n",
       "  </tbody>\n",
       "</table>\n",
       "</div>"
      ],
      "text/plain": [
       "   YearsExperience   Salary\n",
       "0              1.1  39343.0\n",
       "1              1.3  46205.0\n",
       "2              1.5  37731.0\n",
       "3              2.0  43525.0\n",
       "4              2.2  39891.0"
      ]
     },
     "execution_count": 2,
     "metadata": {},
     "output_type": "execute_result"
    }
   ],
   "source": [
    "#loading Dataset\n",
    "sal=pd.read_csv(\"Salary_Data.csv\")\n",
    "sal.head()"
   ]
  },
  {
   "cell_type": "code",
   "execution_count": 3,
   "id": "f30ce105",
   "metadata": {
    "ExecuteTime": {
     "end_time": "2022-07-04T21:31:20.724789Z",
     "start_time": "2022-07-04T21:31:20.516260Z"
    }
   },
   "outputs": [
    {
     "name": "stdout",
     "output_type": "stream",
     "text": [
      "<class 'pandas.core.frame.DataFrame'>\n",
      "RangeIndex: 30 entries, 0 to 29\n",
      "Data columns (total 2 columns):\n",
      " #   Column           Non-Null Count  Dtype  \n",
      "---  ------           --------------  -----  \n",
      " 0   YearsExperience  30 non-null     float64\n",
      " 1   Salary           30 non-null     float64\n",
      "dtypes: float64(2)\n",
      "memory usage: 608.0 bytes\n"
     ]
    },
    {
     "data": {
      "text/plain": [
       "(       YearsExperience         Salary\n",
       " count        30.000000      30.000000\n",
       " mean          5.313333   76003.000000\n",
       " std           2.837888   27414.429785\n",
       " min           1.100000   37731.000000\n",
       " 25%           3.200000   56720.750000\n",
       " 50%           4.700000   65237.000000\n",
       " 75%           7.700000  100544.750000\n",
       " max          10.500000  122391.000000,\n",
       " None)"
      ]
     },
     "execution_count": 3,
     "metadata": {},
     "output_type": "execute_result"
    }
   ],
   "source": [
    "# fetching information by using info and describe function to understand the data well.\n",
    "sal.describe(),sal.info()"
   ]
  },
  {
   "cell_type": "code",
   "execution_count": 4,
   "id": "282f0159",
   "metadata": {
    "ExecuteTime": {
     "end_time": "2022-07-04T21:31:21.341118Z",
     "start_time": "2022-07-04T21:31:20.748438Z"
    },
    "scrolled": true
   },
   "outputs": [
    {
     "data": {
      "image/png": "[encoded data removed]",
      "text/plain": [
       "<Figure size 432x288 with 1 Axes>"
      ]
     },
     "metadata": {
      "needs_background": "light"
     },
     "output_type": "display_data"
    }
   ],
   "source": [
    "#plotting scatter plot to understand relationship between the target and the independent variable.\n",
    "plt.scatter(sal['Salary'],sal['YearsExperience']);"
   ]
  },
  {
   "cell_type": "code",
   "execution_count": 5,
   "id": "506239f1",
   "metadata": {
    "ExecuteTime": {
     "end_time": "2022-07-04T21:31:21.517193Z",
     "start_time": "2022-07-04T21:31:21.385224Z"
    },
    "scrolled": true
   },
   "outputs": [
    {
     "data": {
      "text/html": [
       "<div>\n",
       "<style scoped>\n",
       "    .dataframe tbody tr th:only-of-type {\n",
       "        vertical-align: middle;\n",
       "    }\n",
       "\n",
       "    .dataframe tbody tr th {\n",
       "        vertical-align: top;\n",
       "    }\n",
       "\n",
       "    .dataframe thead th {\n",
       "        text-align: right;\n",
       "    }\n",
       "</style>\n",
       "<table border=\"1\" class=\"dataframe\">\n",
       "  <thead>\n",
       "    <tr style=\"text-align: right;\">\n",
       "      <th></th>\n",
       "      <th>YearsExperience</th>\n",
       "      <th>Salary</th>\n",
       "    </tr>\n",
       "  </thead>\n",
       "  <tbody>\n",
       "    <tr>\n",
       "      <th>YearsExperience</th>\n",
       "      <td>1.000000</td>\n",
       "      <td>0.978242</td>\n",
       "    </tr>\n",
       "    <tr>\n",
       "      <th>Salary</th>\n",
       "      <td>0.978242</td>\n",
       "      <td>1.000000</td>\n",
       "    </tr>\n",
       "  </tbody>\n",
       "</table>\n",
       "</div>"
      ],
      "text/plain": [
       "                 YearsExperience    Salary\n",
       "YearsExperience         1.000000  0.978242\n",
       "Salary                  0.978242  1.000000"
      ]
     },
     "execution_count": 5,
     "metadata": {},
     "output_type": "execute_result"
    }
   ],
   "source": [
    "sal.corr()"
   ]
  },
  {
   "cell_type": "code",
   "execution_count": 6,
   "id": "93df1b45",
   "metadata": {
    "ExecuteTime": {
     "end_time": "2022-07-04T21:31:21.580566Z",
     "start_time": "2022-07-04T21:31:21.529190Z"
    }
   },
   "outputs": [],
   "source": [
    "#defining x and y variable\n",
    "x=np.array([sal['YearsExperience']]).transpose()\n",
    "y=sal['Salary']"
   ]
  },
  {
   "cell_type": "code",
   "execution_count": 7,
   "id": "ade00dbe",
   "metadata": {
    "ExecuteTime": {
     "end_time": "2022-07-04T21:31:21.623092Z",
     "start_time": "2022-07-04T21:31:21.585483Z"
    }
   },
   "outputs": [
    {
     "data": {
      "text/plain": [
       "LinearRegression()"
      ]
     },
     "execution_count": 7,
     "metadata": {},
     "output_type": "execute_result"
    }
   ],
   "source": [
    "#training model by using ols and sklearn \n",
    "model_ols = sm.OLS(y,sm.add_constant(x)).fit()\n",
    "model_sk = LinearRegression()\n",
    "model_sk.fit(x,y)"
   ]
  },
  {
   "cell_type": "code",
   "execution_count": 8,
   "id": "c57b4e30",
   "metadata": {
    "ExecuteTime": {
     "end_time": "2022-07-04T21:31:21.764665Z",
     "start_time": "2022-07-04T21:31:21.630554Z"
    }
   },
   "outputs": [
    {
     "data": {
      "text/plain": [
       "(array([9449.96232146]),\n",
       " 0.9569566641435086,\n",
       " 0.9569566641435086,\n",
       " <class 'statsmodels.iolib.summary.Summary'>\n",
       " \"\"\"\n",
       "                             OLS Regression Results                            \n",
       " ==============================================================================\n",
       " Dep. Variable:                 Salary   R-squared:                       0.957\n",
       " Model:                            OLS   Adj. R-squared:                  0.955\n",
       " Method:                 Least Squares   F-statistic:                     622.5\n",
       " Date:                Tue, 05 Jul 2022   Prob (F-statistic):           1.14e-20\n",
       " Time:                        03:01:21   Log-Likelihood:                -301.44\n",
       " No. Observations:                  30   AIC:                             606.9\n",
       " Df Residuals:                      28   BIC:                             609.7\n",
       " Df Model:                           1                                         \n",
       " Covariance Type:            nonrobust                                         \n",
       " ==============================================================================\n",
       "                  coef    std err          t      P>|t|      [0.025      0.975]\n",
       " ------------------------------------------------------------------------------\n",
       " const       2.579e+04   2273.053     11.347      0.000    2.11e+04    3.04e+04\n",
       " x1          9449.9623    378.755     24.950      0.000    8674.119    1.02e+04\n",
       " ==============================================================================\n",
       " Omnibus:                        2.140   Durbin-Watson:                   1.648\n",
       " Prob(Omnibus):                  0.343   Jarque-Bera (JB):                1.569\n",
       " Skew:                           0.363   Prob(JB):                        0.456\n",
       " Kurtosis:                       2.147   Cond. No.                         13.2\n",
       " ==============================================================================\n",
       " \n",
       " Notes:\n",
       " [1] Standard Errors assume that the covariance matrix of the errors is correctly specified.\n",
       " \"\"\")"
      ]
     },
     "execution_count": 8,
     "metadata": {},
     "output_type": "execute_result"
    }
   ],
   "source": [
    "model_sk.coef_,model_sk.score(x,y),model_ols.rsquared,model_ols.summary()"
   ]
  },
  {
   "cell_type": "code",
   "execution_count": 9,
   "id": "0362175f",
   "metadata": {
    "ExecuteTime": {
     "end_time": "2022-07-04T21:31:21.817538Z",
     "start_time": "2022-07-04T21:31:21.788591Z"
    }
   },
   "outputs": [
    {
     "data": {
      "text/plain": [
       "(31270951.722280968, 5592.043608760662)"
      ]
     },
     "execution_count": 9,
     "metadata": {},
     "output_type": "execute_result"
    }
   ],
   "source": [
    "prediction = model_sk.predict(x)\n",
    "mse = mean_squared_error(y,prediction)\n",
    "rmse = np.sqrt(mse)\n",
    "mse,rmse"
   ]
  },
  {
   "cell_type": "code",
   "execution_count": 10,
   "id": "88d8d711",
   "metadata": {
    "ExecuteTime": {
     "end_time": "2022-07-04T21:31:21.865331Z",
     "start_time": "2022-07-04T21:31:21.836645Z"
    }
   },
   "outputs": [
    {
     "data": {
      "text/plain": [
       "(25792.20019866871, 0.9569566641435086)"
      ]
     },
     "execution_count": 10,
     "metadata": {},
     "output_type": "execute_result"
    }
   ],
   "source": [
    "model_sk.intercept_,model_sk.score(x,y)"
   ]
  },
  {
   "cell_type": "markdown",
   "id": "a773fa76",
   "metadata": {},
   "source": [
    "cooks distance analysis for influential points.\n",
    "here 2 points are influential so we can remove it but our score is pretty good so i am not acting on it for now"
   ]
  },
  {
   "cell_type": "code",
   "execution_count": 11,
   "id": "991f8a8b",
   "metadata": {
    "ExecuteTime": {
     "end_time": "2022-07-04T21:31:21.919915Z",
     "start_time": "2022-07-04T21:31:21.879022Z"
    }
   },
   "outputs": [],
   "source": [
    "#cooks distance for influence point analysis\n",
    "model_ols_influence = model_ols.get_influence()\n",
    "(c, _) = model_ols_influence.cooks_distance"
   ]
  },
  {
   "cell_type": "code",
   "execution_count": 12,
   "id": "1a65f7bf",
   "metadata": {
    "ExecuteTime": {
     "end_time": "2022-07-04T21:31:23.458435Z",
     "start_time": "2022-07-04T21:31:21.929201Z"
    }
   },
   "outputs": [
    {
     "data": {
      "image/png": "[encoded data removed]",
      "text/plain": [
       "<Figure size 1440x504 with 1 Axes>"
      ]
     },
     "metadata": {
      "needs_background": "light"
     },
     "output_type": "display_data"
    }
   ],
   "source": [
    "fig= plt.subplots(figsize=(20,7))\n",
    "plt.stem(np.arange(len(x)),np.round(c,3));"
   ]
  },
  {
   "cell_type": "code",
   "execution_count": 13,
   "id": "8477390c",
   "metadata": {
    "ExecuteTime": {
     "end_time": "2022-07-04T21:31:23.737551Z",
     "start_time": "2022-07-04T21:31:23.508026Z"
    }
   },
   "outputs": [
    {
     "data": {
      "text/plain": [
       "0.13333333333333333"
      ]
     },
     "execution_count": 13,
     "metadata": {},
     "output_type": "execute_result"
    }
   ],
   "source": [
    "N = len(sal)\n",
    "4/N"
   ]
  },
  {
   "cell_type": "markdown",
   "id": "a6072d84",
   "metadata": {},
   "source": [
    "### There are no such influential point or outlier in the data so this is our final accuracy"
   ]
  },
  {
   "cell_type": "code",
   "execution_count": 14,
   "id": "7ff8073f",
   "metadata": {
    "ExecuteTime": {
     "end_time": "2022-07-04T21:31:25.443366Z",
     "start_time": "2022-07-04T21:31:23.814482Z"
    },
    "scrolled": true
   },
   "outputs": [
    {
     "data": {
      "image/png": "[encoded data removed]",
      "text/plain": [
       "<Figure size 432x288 with 1 Axes>"
      ]
     },
     "metadata": {
      "needs_background": "light"
     },
     "output_type": "display_data"
    }
   ],
   "source": [
    "qqplot=sm.qqplot(model_ols.resid,line='q') # line = 45 to draw the diagnoal line\n",
    "plt.title(\"Normal Q-Q plot of residuals\")\n",
    "plt.show()"
   ]
  },
  {
   "cell_type": "markdown",
   "id": "640ef60b",
   "metadata": {},
   "source": [
    "# The accuracy of the final model is 95.7%\n"
   ]
  },
  {
   "cell_type": "code",
   "execution_count": null,
   "id": "38883daa",
   "metadata": {},
   "outputs": [],
   "source": []
  }
 ],
 "metadata": {
  "kernelspec": {
   "display_name": "Python 3 (ipykernel)",
   "language": "python",
   "name": "python3"
  },
  "language_info": {
   "codemirror_mode": {
    "name": "ipython",
    "version": 3
   },
   "file_extension": ".py",
   "mimetype": "text/x-python",
   "name": "python",
   "nbconvert_exporter": "python",
   "pygments_lexer": "ipython3",
   "version": "3.9.7"
  }
 },
 "nbformat": 4,
 "nbformat_minor": 5
}
